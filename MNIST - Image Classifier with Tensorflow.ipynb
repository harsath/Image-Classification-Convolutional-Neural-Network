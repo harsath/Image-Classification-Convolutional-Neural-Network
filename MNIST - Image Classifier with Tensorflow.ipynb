{
 "cells": [
  {
   "cell_type": "markdown",
   "metadata": {},
   "source": [
    "# MNIST dataset Image Classification\n",
    "\n",
    "## Convolutional Neural Network with Tesorflow"
   ]
  },
  {
   "cell_type": "code",
   "execution_count": 3,
   "metadata": {},
   "outputs": [],
   "source": [
    "import tensorflow as tf\n",
    "import numpy as np\n",
    "import matplotlib.pyplot as plt\n",
    "from sklearn.metrics import confusion_matrix\n",
    "import time\n",
    "from datetime import timedelta\n",
    "import math\n",
    "from IPython.display import Image\n",
    "%matplotlib inline"
   ]
  },
  {
   "cell_type": "code",
   "execution_count": 4,
   "metadata": {},
   "outputs": [],
   "source": [
    "#First Filter in our Convolutional Neural Network\n",
    "filter_size1 = 5\n",
    "num_filters1 = 16\n",
    "\n",
    "#Secound Filter in our Convolutional Neural Network\n",
    "filter_size2 = 5\n",
    "num_filter2 = 36\n",
    "\n",
    "#Fully Conncted Layers(Nodes)\n",
    "fc_size = 128"
   ]
  },
  {
   "cell_type": "code",
   "execution_count": 5,
   "metadata": {},
   "outputs": [
    {
     "name": "stdout",
     "output_type": "stream",
     "text": [
      "WARNING:tensorflow:From <ipython-input-5-3917fab1b796>:2: read_data_sets (from tensorflow.contrib.learn.python.learn.datasets.mnist) is deprecated and will be removed in a future version.\n",
      "Instructions for updating:\n",
      "Please use alternatives such as official/mnist/dataset.py from tensorflow/models.\n",
      "WARNING:tensorflow:From /home/harsath/.local/lib/python3.6/site-packages/tensorflow/contrib/learn/python/learn/datasets/mnist.py:260: maybe_download (from tensorflow.contrib.learn.python.learn.datasets.base) is deprecated and will be removed in a future version.\n",
      "Instructions for updating:\n",
      "Please write your own downloading logic.\n",
      "WARNING:tensorflow:From /home/harsath/.local/lib/python3.6/site-packages/tensorflow/contrib/learn/python/learn/datasets/mnist.py:262: extract_images (from tensorflow.contrib.learn.python.learn.datasets.mnist) is deprecated and will be removed in a future version.\n",
      "Instructions for updating:\n",
      "Please use tf.data to implement this functionality.\n",
      "Extracting MNIST_data/train-images-idx3-ubyte.gz\n",
      "WARNING:tensorflow:From /home/harsath/.local/lib/python3.6/site-packages/tensorflow/contrib/learn/python/learn/datasets/mnist.py:267: extract_labels (from tensorflow.contrib.learn.python.learn.datasets.mnist) is deprecated and will be removed in a future version.\n",
      "Instructions for updating:\n",
      "Please use tf.data to implement this functionality.\n",
      "Extracting MNIST_data/train-labels-idx1-ubyte.gz\n",
      "WARNING:tensorflow:From /home/harsath/.local/lib/python3.6/site-packages/tensorflow/contrib/learn/python/learn/datasets/mnist.py:110: dense_to_one_hot (from tensorflow.contrib.learn.python.learn.datasets.mnist) is deprecated and will be removed in a future version.\n",
      "Instructions for updating:\n",
      "Please use tf.one_hot on tensors.\n",
      "Extracting MNIST_data/t10k-images-idx3-ubyte.gz\n",
      "Extracting MNIST_data/t10k-labels-idx1-ubyte.gz\n",
      "WARNING:tensorflow:From /home/harsath/.local/lib/python3.6/site-packages/tensorflow/contrib/learn/python/learn/datasets/mnist.py:290: DataSet.__init__ (from tensorflow.contrib.learn.python.learn.datasets.mnist) is deprecated and will be removed in a future version.\n",
      "Instructions for updating:\n",
      "Please use alternatives such as official/mnist/dataset.py from tensorflow/models.\n"
     ]
    }
   ],
   "source": [
    "from tensorflow.examples.tutorials.mnist import input_data\n",
    "data = input_data.read_data_sets(\"MNIST_data/\",one_hot=True)"
   ]
  },
  {
   "cell_type": "markdown",
   "metadata": {},
   "source": [
    "### Declaring out convolutional layer and filter related variables"
   ]
  },
  {
   "cell_type": "code",
   "execution_count": 6,
   "metadata": {},
   "outputs": [],
   "source": [
    "#Dimensions of the data\n",
    "\n",
    "#Size of the Image\n",
    "img_size = 28\n",
    "\n",
    "#Size of the Image when stored in one-Dimension\n",
    "img_size_flat = img_size * img_size\n",
    "\n",
    "#Shape of the Image\n",
    "img_shape = (img_size,img_size)\n",
    "\n",
    "#A Gray-Scale Image has 1 channel\n",
    "#https://en.wikipedia.org/wiki/channel_(digital_image)\n",
    "num_channel = 1\n",
    "\n",
    "#Number of classes(0 to 9)\n",
    "num_classes = 10\n",
    "\n",
    "data.test.cls = np.argmax(data.test.labels,axis=1)"
   ]
  },
  {
   "cell_type": "markdown",
   "metadata": {},
   "source": [
    "## Helper function for Plotting Image"
   ]
  },
  {
   "cell_type": "code",
   "execution_count": 7,
   "metadata": {},
   "outputs": [],
   "source": [
    "def plot_image(image,cls_true,cls_pred=None):\n",
    "    assert len(images) == len(cls_true) == 9\n",
    "\n",
    "    \n",
    "    #Creating a 3 x 3 sub-plot\n",
    "    fig,axes = plt.subplots(3,3)\n",
    "    fig.subplots_adjust(hspace=0.3,wspace=0.3)\n",
    "\n",
    "    for i,ax in enumerate(axes.flat):\n",
    "        ax.imshow(image[i].reshape(img_shape),cmap='binary')\n",
    "        \n",
    "        #If predicted or not\n",
    "        if cls_pred is None:\n",
    "            xlabel = \"True : {0}\".format(cls_true[i])\n",
    "        else:\n",
    "            xlabel = \"True : {0}, Prediction : {1}\".format(cls_true[i],cls_pred[i])\n",
    "            \n",
    "        ax.set_xlabel(xlabel)\n",
    "        \n",
    "        #Removing ticks from the plot\n",
    "        ax.set_xticks([])\n",
    "        ax.set_yticks([])\n",
    "        \n",
    "    plt.show()"
   ]
  },
  {
   "cell_type": "code",
   "execution_count": 8,
   "metadata": {},
   "outputs": [
    {
     "data": {
      "image/png": "[encoded data removed]",
      "text/plain": [
       "<Figure size 432x288 with 9 Axes>"
      ]
     },
     "metadata": {},
     "output_type": "display_data"
    }
   ],
   "source": [
    "#Getting the first images from the Test-Set\n",
    "images = data.test.images[0:9]\n",
    "\n",
    "#Getting the True classes for those Images\n",
    "cls_true = data.test.cls[0:9]\n",
    "\n",
    "plot_image(images,cls_true)"
   ]
  },
  {
   "cell_type": "markdown",
   "metadata": {},
   "source": [
    "## Tensorflow Declarations"
   ]
  },
  {
   "cell_type": "code",
   "execution_count": 9,
   "metadata": {},
   "outputs": [],
   "source": [
    "def new_Weights(shape):\n",
    "    #The Veriable should be in shape same as ReLu Output\n",
    "    return tf.Variable(tf.truncated_normal(shape,stddev=0.05))"
   ]
  },
  {
   "cell_type": "code",
   "execution_count": 10,
   "metadata": {},
   "outputs": [],
   "source": [
    "def new_biases(length):\n",
    "    #This is a constant value\n",
    "    return tf.Variable(tf.constant(0.05,shape=[length]))"
   ]
  },
  {
   "cell_type": "markdown",
   "metadata": {},
   "source": [
    "## Helper Function for Convolutional Layers"
   ]
  },
  {
   "cell_type": "code",
   "execution_count": 11,
   "metadata": {},
   "outputs": [],
   "source": [
    "def new_conv_layer(input,                     #Input Data\n",
    "                   num_input_chann,           #Total Input Channels\n",
    "                   filter_size,               #FIlter Size\n",
    "                   filter_num,                #Number of Filters\n",
    "                  use_pooling=True):          #Usage of Max-Pooling (2 x 2)\n",
    "    #Shape of the filter\n",
    "    shape = [filter_size,filter_size,num_input_chann,filter_num]\n",
    "    #Creating new Weights(Function Above)\n",
    "    weights = new_Weights(shape=shape)\n",
    "    #Creating new Biases\n",
    "    biases = new_biases(length=filter_num)\n",
    "    \n",
    "    #Creating Our Tensorflow Convolutional Instance\n",
    "    layer = tf.nn.conv2d(input,filter=weights,strides=[1,1,1,1],padding=\"SAME\")\n",
    "    #Adding Biases to our Layer\n",
    "    layer += biases\n",
    "    \n",
    "    #Using Max-Pooling to downsample out Image (As because of computationally Expensive)\n",
    "    if use_pooling:\n",
    "        layer = tf.nn.max_pool(value=layer,ksize=[1,2,2,1],strides=[1,2,2,1],padding=\"SAME\")\n",
    "        \n",
    "    #Passing the layer into rectified linear units activation function\n",
    "    layer = tf.nn.relu(layer)\n",
    "    \n",
    "    return layer,weights"
   ]
  },
  {
   "cell_type": "markdown",
   "metadata": {},
   "source": [
    "## Flattening Layer stuffs(Into 1Dimensional)"
   ]
  },
  {
   "cell_type": "code",
   "execution_count": 12,
   "metadata": {},
   "outputs": [],
   "source": [
    "def flattening_layer(layer):\n",
    "    #Getting the Shape of the Layer\n",
    "    layer_shape = layer.get_shape()\n",
    "    #Assuming the Output of the Feacture [num_images,image_height,image_width,num_channels]\n",
    "    \n",
    "    #Computing our total number of Feactures\n",
    "    num_features = layer_shape[1:4].num_elements()\n",
    "    \n",
    "    #Reshaping our Layer into 1D [num_images,num_feactures]\n",
    "    layer_flat = tf.reshape(layer,shape=[-1,num_features])\n",
    "    \n",
    "    #Now returning our flatter layer and feactures\n",
    "    return layer_flat, num_features\n",
    "    "
   ]
  },
  {
   "cell_type": "markdown",
   "metadata": {},
   "source": [
    "## Helper function for New Fully Connected Neural Network"
   ]
  },
  {
   "cell_type": "code",
   "execution_count": 13,
   "metadata": {},
   "outputs": [],
   "source": [
    "def new_fc_nn(input,num_inputs,num_outputs,use_relu=True):\n",
    "    \n",
    "    #Creating our Weights and Biases\n",
    "    weights = new_Weights(shape=[num_inputs,num_outputs])\n",
    "    biases  = new_biases(length=num_outputs)\n",
    "    \n",
    "    layer = tf.matmul(input,weights) + biases\n",
    "    \n",
    "    #Activation Function\n",
    "    if use_relu:\n",
    "        layer = tf.nn.relu(layer)\n",
    "        \n",
    "    return layer"
   ]
  },
  {
   "cell_type": "markdown",
   "metadata": {},
   "source": [
    "### Placeholder Variables"
   ]
  },
  {
   "cell_type": "code",
   "execution_count": 14,
   "metadata": {},
   "outputs": [],
   "source": [
    "x= tf.placeholder(tf.float32,name=\"x\")\n",
    "x_img = tf.reshape(x,shape=[-1,img_size,img_size,num_channel])"
   ]
  },
  {
   "cell_type": "code",
   "execution_count": 15,
   "metadata": {},
   "outputs": [
    {
     "name": "stdout",
     "output_type": "stream",
     "text": [
      "WARNING:tensorflow:From <ipython-input-15-8f38f9e39780>:2: calling argmax (from tensorflow.python.ops.math_ops) with dimension is deprecated and will be removed in a future version.\n",
      "Instructions for updating:\n",
      "Use the `axis` argument instead\n"
     ]
    }
   ],
   "source": [
    "y_true = tf.placeholder(tf.float32,name=\"y_true\")\n",
    "y_true_cla = tf.argmax(y_true,dimension=1)"
   ]
  },
  {
   "cell_type": "markdown",
   "metadata": {},
   "source": [
    "### Convolutional Layer 1"
   ]
  },
  {
   "cell_type": "code",
   "execution_count": 16,
   "metadata": {},
   "outputs": [
    {
     "data": {
      "text/plain": [
       "<tf.Tensor 'Relu:0' shape=(?, 14, 14, 16) dtype=float32>"
      ]
     },
     "execution_count": 16,
     "metadata": {},
     "output_type": "execute_result"
    }
   ],
   "source": [
    "conv_layer1, conv_weights1 = new_conv_layer(input=x_img,\n",
    "                                            num_input_chann=num_channel,\n",
    "                                            filter_size=filter_size1,\n",
    "                                            filter_num=num_filters1,\n",
    "                                           use_pooling=True)\n",
    "\n",
    "conv_layer1"
   ]
  },
  {
   "cell_type": "code",
   "execution_count": 17,
   "metadata": {},
   "outputs": [
    {
     "data": {
      "text/plain": [
       "<tf.Tensor 'Relu_1:0' shape=(?, 7, 7, 36) dtype=float32>"
      ]
     },
     "execution_count": 17,
     "metadata": {},
     "output_type": "execute_result"
    }
   ],
   "source": [
    "conv_layer2, conv_weights2 = new_conv_layer(conv_layer1,\n",
    "                                            num_input_chann=num_filters1,\n",
    "                                            filter_size=filter_size2,\n",
    "                                            filter_num=num_filter2,\n",
    "                                           use_pooling=True)\n",
    "\n",
    "conv_layer2"
   ]
  },
  {
   "cell_type": "markdown",
   "metadata": {},
   "source": [
    "### Flatten Layer"
   ]
  },
  {
   "cell_type": "code",
   "execution_count": 18,
   "metadata": {},
   "outputs": [
    {
     "name": "stdout",
     "output_type": "stream",
     "text": [
      "Tensor(\"Reshape_1:0\", shape=(?, 1764), dtype=float32)\n",
      "Number of Feactures : 1764\n"
     ]
    }
   ],
   "source": [
    "layer_flat, feactures = flattening_layer(conv_layer2)\n",
    "print(layer_flat)\n",
    "print(\"Number of Feactures :\",feactures)"
   ]
  },
  {
   "cell_type": "markdown",
   "metadata": {},
   "source": [
    "### Fully connected Layer1"
   ]
  },
  {
   "cell_type": "code",
   "execution_count": 19,
   "metadata": {},
   "outputs": [
    {
     "data": {
      "text/plain": [
       "<tf.Tensor 'Relu_2:0' shape=(?, 128) dtype=float32>"
      ]
     },
     "execution_count": 19,
     "metadata": {},
     "output_type": "execute_result"
    }
   ],
   "source": [
    "layer_fc1 = new_fc_nn(input=layer_flat,\n",
    "                      num_inputs=feactures,\n",
    "                      num_outputs=fc_size)\n",
    "\n",
    "layer_fc1"
   ]
  },
  {
   "cell_type": "markdown",
   "metadata": {},
   "source": [
    "### Fully Connected layer2"
   ]
  },
  {
   "cell_type": "code",
   "execution_count": 20,
   "metadata": {},
   "outputs": [
    {
     "data": {
      "text/plain": [
       "<tf.Tensor 'add_3:0' shape=(?, 10) dtype=float32>"
      ]
     },
     "execution_count": 20,
     "metadata": {},
     "output_type": "execute_result"
    }
   ],
   "source": [
    "layer_fc2 = new_fc_nn(input=layer_fc1,\n",
    "                      num_inputs=fc_size,\n",
    "                      num_outputs=num_classes,\n",
    "                     use_relu=False)\n",
    "\n",
    "layer_fc2"
   ]
  },
  {
   "cell_type": "code",
   "execution_count": 21,
   "metadata": {},
   "outputs": [],
   "source": [
    "y_pred = tf.nn.softmax(layer_fc2)\n",
    "y_pred_cls = tf.argmax(y_pred,dimension=1)"
   ]
  },
  {
   "cell_type": "markdown",
   "metadata": {},
   "source": [
    "### Cost-Function to be Optimized"
   ]
  },
  {
   "cell_type": "code",
   "execution_count": 22,
   "metadata": {},
   "outputs": [
    {
     "name": "stdout",
     "output_type": "stream",
     "text": [
      "WARNING:tensorflow:From <ipython-input-22-c29e178fb653>:1: softmax_cross_entropy_with_logits (from tensorflow.python.ops.nn_ops) is deprecated and will be removed in a future version.\n",
      "Instructions for updating:\n",
      "\n",
      "Future major versions of TensorFlow will allow gradients to flow\n",
      "into the labels input on backprop by default.\n",
      "\n",
      "See @{tf.nn.softmax_cross_entropy_with_logits_v2}.\n",
      "\n"
     ]
    }
   ],
   "source": [
    "cross_entropy = tf.nn.softmax_cross_entropy_with_logits(logits=layer_fc2,labels=y_true)"
   ]
  },
  {
   "cell_type": "code",
   "execution_count": 23,
   "metadata": {},
   "outputs": [],
   "source": [
    "#Cost Function\n",
    "cost = tf.reduce_mean(cross_entropy)"
   ]
  },
  {
   "cell_type": "code",
   "execution_count": 24,
   "metadata": {},
   "outputs": [],
   "source": [
    "#Optimization Methon\n",
    "optimizer = tf.train.AdamOptimizer(learning_rate=1e-4).minimize(cost)"
   ]
  },
  {
   "cell_type": "code",
   "execution_count": 25,
   "metadata": {},
   "outputs": [],
   "source": [
    "correct_pred = tf.equal(y_pred_cls,y_true_cla)\n",
    "accuracy = tf.reduce_mean(tf.cast(correct_pred,tf.float32))"
   ]
  },
  {
   "cell_type": "markdown",
   "metadata": {},
   "source": [
    "### Tensorflow Sessions"
   ]
  },
  {
   "cell_type": "code",
   "execution_count": 26,
   "metadata": {},
   "outputs": [],
   "source": [
    "session = tf.Session()\n",
    "session.run(tf.global_variables_initializer())"
   ]
  },
  {
   "cell_type": "code",
   "execution_count": 27,
   "metadata": {},
   "outputs": [],
   "source": [
    "traning_batch = 64"
   ]
  },
  {
   "cell_type": "code",
   "execution_count": 28,
   "metadata": {},
   "outputs": [],
   "source": [
    "#Counting the total iterations Performed\n",
    "total_iter = 0\n",
    "\n",
    "def optimizerfun(num_iterations):\n",
    "    global total_iter\n",
    "    start_time = time.time()\n",
    "    init = tf.initialize_all_variables()\n",
    "    session.run(init)\n",
    "    init_glob = tf.global_variables_initializer()\n",
    "    session.run(init_glob)\n",
    "    for i in range(total_iter,total_iter+num_iterations):\n",
    "        #x_batch holdes the batch of images\n",
    "        #y_true holds the true labels for those images\n",
    "        x_batch,y_batch_for_batch = data.train.next_batch(traning_batch)\n",
    "        \n",
    "        #Feeding the data of batches into the placeholder for Training\n",
    "        feed_dictinary = {x:x_batch,y_true:y_batch_for_batch}\n",
    "        session.run(optimizer,feed_dict=feed_dictinary)\n",
    "        \n",
    "        #Printing for every 100 iterations\n",
    "        if i % 100 == 0:\n",
    "            #Calculating the accuracy on the Training set\n",
    "            acc = session.run(accuracy,feed_dict=feed_dictinary)\n",
    "            \n",
    "            #Message for printing\n",
    "            msg = \"Optimization Iterating: {0:>6}, Training Accuracy: {1:>6.1%}\"\n",
    "            \n",
    "            #Printing it\n",
    "            print(msg.format(i + 1, acc))\n",
    "            \n",
    "        #Updating the total number of Iteratings\n",
    "        total_iter += num_iterations\n",
    "        \n",
    "        #ending the time\n",
    "        end_time = time.time()\n",
    "        \n",
    "        #Difference in Time\n",
    "        time_deff = end_time-start_time\n",
    "        print(\"Time Usage: \"+str(timedelta(seconds=int(round(time_deff)))))"
   ]
  },
  {
   "cell_type": "markdown",
   "metadata": {},
   "source": [
    "### Helper function to Plot example errors"
   ]
  },
  {
   "cell_type": "code",
   "execution_count": 29,
   "metadata": {},
   "outputs": [],
   "source": [
    "def plot_confusion_matrix(cls_pred):\n",
    "    cls_true = data.test.cls\n",
    "    con_met = confusion_matrix(y_true=cls_true,y_pred=cls_pred)\n",
    "    \n",
    "    #Printing our confusion matrix\n",
    "    print(con_met)\n",
    "    \n",
    "    #Plot our confusion matrix as an Image\n",
    "    plt.matshow(con_met)\n",
    "    \n",
    "    #Making various adjustments to the plot\n",
    "    plt.colorbar()\n",
    "    tick_mark = np.arange(num_classes)\n",
    "    plt.xticks(tick_mark,range(num_classes))\n",
    "    plt.yticks(tick_mark,range(num_classes))\n",
    "    plt.xlabel(\"Predicted\")\n",
    "    plt.ylabel(\"True\")\n",
    "    \n",
    "    plt.show()\n",
    "    "
   ]
  },
  {
   "cell_type": "markdown",
   "metadata": {},
   "source": [
    "### per function for showing performance"
   ]
  },
  {
   "cell_type": "code",
   "execution_count": 30,
   "metadata": {},
   "outputs": [],
   "source": [
    "# Split the test-set into smaller batches of this size.\n",
    "test_batch_size = 256\n",
    "\n",
    "def print_test_accuracy(show_example_errors=False,\n",
    "                        show_confusion_matrix=False):\n",
    "\n",
    "    # Number of images in the test-set.\n",
    "    num_test = len(data.test.images)\n",
    "\n",
    "    # Allocate an array for the predicted classes which\n",
    "    # will be calculated in batches and filled into this array.\n",
    "    cls_pred = np.zeros(shape=num_test, dtype=np.int)\n",
    "\n",
    "    # Now calculate the predicted classes for the batches.\n",
    "    # We will just iterate through all the batches.\n",
    "    # There might be a more clever and Pythonic way of doing this.\n",
    "\n",
    "    # The starting index for the next batch is denoted i.\n",
    "    i = 0\n",
    "\n",
    "    while i < num_test:\n",
    "        # The ending index for the next batch is denoted j.\n",
    "        j = min(i + test_batch_size, num_test)\n",
    "\n",
    "        # Get the images from the test-set between index i and j.\n",
    "        images = data.test.images[i:j, :]\n",
    "\n",
    "        # Get the associated labels.\n",
    "        labels = data.test.labels[i:j, :]\n",
    "\n",
    "        # Create a feed-dict with these images and labels.\n",
    "        feed_dict = {x: images,\n",
    "                     y_true: labels}\n",
    "\n",
    "        # Calculate the predicted class using TensorFlow.\n",
    "        cls_pred[i:j] = session.run(y_pred_cls, feed_dict=feed_dict)\n",
    "\n",
    "        # Set the start-index for the next batch to the\n",
    "        # end-index of the current batch.\n",
    "        i = j\n",
    "\n",
    "    # Convenience variable for the true class-numbers of the test-set.\n",
    "    cls_true = data.test.cls\n",
    "\n",
    "    # Create a boolean array whether each image is correctly classified.\n",
    "    correct = (cls_true == cls_pred)\n",
    "\n",
    "    # Calculate the number of correctly classified images.\n",
    "    # When summing a boolean array, False means 0 and True means 1.\n",
    "    correct_sum = correct.sum()\n",
    "\n",
    "    # Classification accuracy is the number of correctly classified\n",
    "    # images divided by the total number of images in the test-set.\n",
    "    acc = float(correct_sum) / num_test\n",
    "\n",
    "    # Print the accuracy.\n",
    "    msg = \"Accuracy on Test-Set: {0:.1%} ({1} / {2})\"\n",
    "    print(msg.format(acc, correct_sum, num_test))\n",
    "    \n",
    "    if show_confusion_matrix:\n",
    "        plot_confusion_matrix(cls_pred)"
   ]
  },
  {
   "cell_type": "code",
   "execution_count": 31,
   "metadata": {},
   "outputs": [
    {
     "name": "stdout",
     "output_type": "stream",
     "text": [
      "Accuracy on Test-Set: 11.3% (1133 / 10000)\n"
     ]
    }
   ],
   "source": [
    "print_test_accuracy()"
   ]
  },
  {
   "cell_type": "code",
   "execution_count": null,
   "metadata": {},
   "outputs": [],
   "source": [
    "optimizerfun(num_iterations=10000)"
   ]
  },
  {
   "cell_type": "markdown",
   "metadata": {},
   "source": [
    "# Testing out Accuracy after 10000 Iterations"
   ]
  },
  {
   "cell_type": "code",
   "execution_count": 35,
   "metadata": {},
   "outputs": [
    {
     "name": "stdout",
     "output_type": "stream",
     "text": [
      "Accuracy on Test-Set: 98.6% (9864 / 10000)\n"
     ]
    }
   ],
   "source": [
    "print_test_accuracy()"
   ]
  },
  {
   "cell_type": "code",
   "execution_count": 36,
   "metadata": {},
   "outputs": [
    {
     "name": "stdout",
     "output_type": "stream",
     "text": [
      "Accuracy on Test-Set: 98.6% (9864 / 10000)\n",
      "[[ 974    0    1    0    0    2    1    1    1    0]\n",
      " [   0 1130    1    0    0    0    1    2    1    0]\n",
      " [   6    1 1015    3    1    0    0    3    3    0]\n",
      " [   1    0    0 1002    0    4    0    1    2    0]\n",
      " [   0    0    1    1  976    0    0    0    0    4]\n",
      " [   2    0    0    3    0  886    1    0    0    0]\n",
      " [   6    2    0    1    2    6  941    0    0    0]\n",
      " [   2    1    7    1    0    0    0 1016    1    0]\n",
      " [   5    0    3    2    1    6    0    3  951    3]\n",
      " [   4    5    1    4    6    4    0   10    2  973]]\n"
     ]
    },
    {
     "data": {
      "image/png": "[encoded data removed]",
      "text/plain": [
       "<Figure size 288x288 with 2 Axes>"
      ]
     },
     "metadata": {},
     "output_type": "display_data"
    }
   ],
   "source": [
    "print_test_accuracy(show_confusion_matrix=True)"
   ]
  },
  {
   "cell_type": "markdown",
   "metadata": {},
   "source": [
    "# Final Accuracy : 98.7%"
   ]
  },
  {
   "cell_type": "code",
   "execution_count": null,
   "metadata": {},
   "outputs": [],
   "source": []
  },
  {
   "cell_type": "code",
   "execution_count": null,
   "metadata": {},
   "outputs": [],
   "source": []
  },
  {
   "cell_type": "code",
   "execution_count": null,
   "metadata": {},
   "outputs": [],
   "source": []
  },
  {
   "cell_type": "code",
   "execution_count": null,
   "metadata": {},
   "outputs": [],
   "source": []
  },
  {
   "cell_type": "code",
   "execution_count": null,
   "metadata": {},
   "outputs": [],
   "source": []
  },
  {
   "cell_type": "code",
   "execution_count": null,
   "metadata": {},
   "outputs": [],
   "source": []
  },
  {
   "cell_type": "code",
   "execution_count": null,
   "metadata": {},
   "outputs": [],
   "source": []
  }
 ],
 "metadata": {
  "kernelspec": {
   "display_name": "Python 3",
   "language": "python",
   "name": "python3"
  },
  "language_info": {
   "codemirror_mode": {
    "name": "ipython",
    "version": 3
   },
   "file_extension": ".py",
   "mimetype": "text/x-python",
   "name": "python",
   "nbconvert_exporter": "python",
   "pygments_lexer": "ipython3",
   "version": "3.6.5"
  }
 },
 "nbformat": 4,
 "nbformat_minor": 2
}
